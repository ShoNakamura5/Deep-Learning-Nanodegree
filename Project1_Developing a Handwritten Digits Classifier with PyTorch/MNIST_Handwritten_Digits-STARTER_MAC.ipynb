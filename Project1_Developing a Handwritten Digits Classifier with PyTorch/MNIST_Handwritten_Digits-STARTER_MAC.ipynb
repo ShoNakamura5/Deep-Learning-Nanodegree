{
 "cells": [
  {
   "cell_type": "markdown",
   "metadata": {},
   "source": [
    "# Introduction\n",
    "\n",
    "In this project, you will build a neural network of your own design to evaluate the MNIST dataset.\n",
    "\n",
    "Some of the benchmark results on MNIST include can be found [on Yann LeCun's page](http://yann.lecun.com/exdb/mnist/) and include:\n",
    "\n",
    "88% [Lecun et al., 1998](http://yann.lecun.com/exdb/publis/pdf/lecun-98.pdf)\n",
    "95.3% [Lecun et al., 1998](http://yann.lecun.com/exdb/publis/pdf/lecun-98.pdf)\n",
    "99.65% [Ciresan et al., 2011](http://people.idsia.ch/~juergen/ijcai2011.pdf)\n",
    "\n",
    "MNIST is a great dataset for sanity checking your models, since the accuracy levels achieved by large convolutional neural networks and small linear models are both quite high. This makes it important to be familiar with the data.\n",
    "\n",
    "## Imports"
   ]
  },
  {
   "cell_type": "code",
   "execution_count": 1,
   "metadata": {},
   "outputs": [],
   "source": [
    "## This cell contains the essential imports you will need – DO NOT CHANGE THE CONTENTS! ##\n",
    "import torch\n",
    "import torch.nn as nn\n",
    "import torch.nn.functional as F\n",
    "import torch.optim as optim\n",
    "import torchvision\n",
    "import torchvision.transforms as transforms\n",
    "import matplotlib.pyplot as plt\n",
    "import numpy as np\n",
    "from torch.utils.data import DataLoader"
   ]
  },
  {
   "cell_type": "markdown",
   "metadata": {},
   "source": [
    "## Load the Dataset\n",
    "\n",
    "Specify your transforms as a list if you intend to .\n",
    "The transforms module is already loaded as `transforms`.\n",
    "\n",
    "MNIST is fortunately included in the torchvision module.\n",
    "Then, you can create your dataset using the `MNIST` object from `torchvision.datasets` ([the documentation is available here](https://pytorch.org/vision/stable/datasets.html#mnist)).\n",
    "Make sure to specify `download=True`! \n",
    "\n",
    "Once your dataset is created, you'll also need to define a `DataLoader` from the `torch.utils.data` module for both the train and the test set."
   ]
  },
  {
   "cell_type": "code",
   "execution_count": 2,
   "metadata": {},
   "outputs": [
    {
     "name": "stderr",
     "output_type": "stream",
     "text": [
      "/opt/conda/lib/python3.7/site-packages/torchvision/datasets/mnist.py:498: UserWarning: The given NumPy array is not writable, and PyTorch does not support non-writable tensors. This means writing to this tensor will result in undefined behavior. You may want to copy the array to protect its data or make it writable before converting it to a tensor. This type of warning will be suppressed for the rest of this program. (Triggered internally at  ../torch/csrc/utils/tensor_numpy.cpp:178.)\n",
      "  return torch.from_numpy(parsed.astype(m[2], copy=False)).view(*s)\n"
     ]
    }
   ],
   "source": [
    "# Define transforms\n",
    "transforms = transforms.ToTensor()\n",
    "\n",
    "# Create training set and define training dataloader\n",
    "train_data = torchvision.datasets.MNIST(root=\"data\", train=True, download=True, transform=transforms)\n",
    "train_loader = DataLoader(train_data, batch_size=100, shuffle=True)\n",
    "\n",
    "# Create test set and define test dataloader\n",
    "test_data = torchvision.datasets.MNIST(root=\"data\", train=False, download=True, transform=transforms)\n",
    "test_loader = DataLoader(test_data, batch_size=100)"
   ]
  },
  {
   "cell_type": "markdown",
   "metadata": {},
   "source": [
    "## Justify your preprocessing\n",
    "\n",
    "In your own words, why did you choose the transforms you chose? If you didn't use any preprocessing steps, why not?"
   ]
  },
  {
   "cell_type": "markdown",
   "metadata": {},
   "source": [
    "**To convert an image data set into a tensor.**"
   ]
  },
  {
   "cell_type": "markdown",
   "metadata": {},
   "source": [
    "## Explore the Dataset\n",
    "Using matplotlib, numpy, and torch, explore the dimensions of your data.\n",
    "\n",
    "You can view images using the `show5` function defined below – it takes a data loader as an argument.\n",
    "Remember that normalized images will look really weird to you! You may want to try changing your transforms to view images.\n",
    "Typically using no transforms other than `toTensor()` works well for viewing – but not as well for training your network.\n",
    "If `show5` doesn't work, go back and check your code for creating your data loaders and your training/test sets."
   ]
  },
  {
   "cell_type": "code",
   "execution_count": 3,
   "metadata": {},
   "outputs": [],
   "source": [
    "## This cell contains a function for showing 5 images from a dataloader – DO NOT CHANGE THE CONTENTS! ##\n",
    "def show5(img_loader):\n",
    "    dataiter = iter(img_loader)\n",
    "    \n",
    "    batch = next(dataiter)\n",
    "    labels = batch[1][0:5]\n",
    "    images = batch[0][0:5]\n",
    "    for i in range(5):\n",
    "        print(int(labels[i].detach()))\n",
    "    \n",
    "        image = images[i].numpy()\n",
    "        plt.imshow(image.T.squeeze().T)\n",
    "        plt.show()"
   ]
  },
  {
   "cell_type": "code",
   "execution_count": 4,
   "metadata": {},
   "outputs": [
    {
     "name": "stdout",
     "output_type": "stream",
     "text": [
      "Number of MNIST train data examples: 60000\n",
      "Number of MNIST test data examples: 10000\n"
     ]
    }
   ],
   "source": [
    "print(\"Number of MNIST train data examples: {}\".format(len(train_data)))\n",
    "print(\"Number of MNIST test data examples: {}\".format(len(test_data)))"
   ]
  },
  {
   "cell_type": "code",
   "execution_count": 5,
   "metadata": {},
   "outputs": [
    {
     "name": "stdout",
     "output_type": "stream",
     "text": [
      "number of images: torch.Size([100, 1, 28, 28])\n",
      "number of labels: torch.Size([100])\n"
     ]
    }
   ],
   "source": [
    "dataiter = iter(train_loader)\n",
    "images, labels = next(dataiter)\n",
    "\n",
    "print(\"number of images: {}\".format(images.shape))\n",
    "print(\"number of labels: {}\".format(labels.shape))"
   ]
  },
  {
   "cell_type": "code",
   "execution_count": 6,
   "metadata": {},
   "outputs": [
    {
     "name": "stdout",
     "output_type": "stream",
     "text": [
      "7\n"
     ]
    },
    {
     "data": {
      "image/png": "[encoded data removed]",
      "text/plain": [
       "<Figure size 432x288 with 1 Axes>"
      ]
     },
     "metadata": {
      "needs_background": "light"
     },
     "output_type": "display_data"
    },
    {
     "name": "stdout",
     "output_type": "stream",
     "text": [
      "1\n"
     ]
    },
    {
     "data": {
      "image/png": "[encoded data removed]",
      "text/plain": [
       "<Figure size 432x288 with 1 Axes>"
      ]
     },
     "metadata": {
      "needs_background": "light"
     },
     "output_type": "display_data"
    },
    {
     "name": "stdout",
     "output_type": "stream",
     "text": [
      "3\n"
     ]
    },
    {
     "data": {
      "image/png": "[encoded data removed]",
      "text/plain": [
       "<Figure size 432x288 with 1 Axes>"
      ]
     },
     "metadata": {
      "needs_background": "light"
     },
     "output_type": "display_data"
    },
    {
     "name": "stdout",
     "output_type": "stream",
     "text": [
      "1\n"
     ]
    },
    {
     "data": {
      "image/png": "[encoded data removed]",
      "text/plain": [
       "<Figure size 432x288 with 1 Axes>"
      ]
     },
     "metadata": {
      "needs_background": "light"
     },
     "output_type": "display_data"
    },
    {
     "name": "stdout",
     "output_type": "stream",
     "text": [
      "4\n"
     ]
    },
    {
     "data": {
      "image/png": "[encoded data removed]",
      "text/plain": [
       "<Figure size 432x288 with 1 Axes>"
      ]
     },
     "metadata": {
      "needs_background": "light"
     },
     "output_type": "display_data"
    }
   ],
   "source": [
    "show5(train_loader)"
   ]
  },
  {
   "cell_type": "markdown",
   "metadata": {},
   "source": [
    "## Build your Neural Network\n",
    "Using the layers in `torch.nn` (which has been imported as `nn`) and the `torch.nn.functional` module (imported as `F`), construct a neural network based on the parameters of the dataset.\n",
    "Use any architecture you like. \n",
    "\n",
    "*Note*: If you did not flatten your tensors in your transforms or as part of your preprocessing and you are using only `Linear` layers, make sure to use the `Flatten` layer in your network!"
   ]
  },
  {
   "cell_type": "code",
   "execution_count": 7,
   "metadata": {},
   "outputs": [],
   "source": [
    "class Net(nn.Module):\n",
    "    def __init__(self):\n",
    "        super(Net, self).__init__()\n",
    "        self.activation = F.relu\n",
    "        self.layer1 = nn.Linear(28 * 28, 128)\n",
    "        self.layer2 = nn.Linear(128, 64)\n",
    "        self.layer3 = nn.Linear(64, 10)\n",
    "        \n",
    "    def forward(self, x):\n",
    "        x = torch.flatten(x, 1)\n",
    "        x = self.activation(self.layer1(x))\n",
    "        x = self.activation(self.layer2(x))\n",
    "        x = self.layer3(x)\n",
    "        return x\n",
    "    \n",
    "net = Net()"
   ]
  },
  {
   "cell_type": "code",
   "execution_count": 8,
   "metadata": {},
   "outputs": [],
   "source": [
    "# Choose an optimizer\n",
    "optimizer = optim.Adam(net.parameters(), lr=0.001)\n",
    "\n",
    "# Choose a loss function\n",
    "criterion = nn.CrossEntropyLoss()"
   ]
  },
  {
   "cell_type": "markdown",
   "metadata": {},
   "source": [
    "Specify a loss function and an optimizer, and instantiate the model.\n",
    "\n",
    "If you use a less common loss function, please note why you chose that loss function in a comment."
   ]
  },
  {
   "cell_type": "markdown",
   "metadata": {},
   "source": [
    "## Running your Neural Network\n",
    "Use whatever method you like to train your neural network, and ensure you record the average loss at each epoch. \n",
    "Don't forget to use `torch.device()` and the `.to()` method for both your model and your data if you are using GPU!\n",
    "\n",
    "If you want to print your loss **during** each epoch, you can use the `enumerate` function and print the loss after a set number of batches. 250 batches works well for most people!"
   ]
  },
  {
   "cell_type": "code",
   "execution_count": 9,
   "metadata": {},
   "outputs": [
    {
     "name": "stdout",
     "output_type": "stream",
     "text": [
      "Epoch 1 training accuracy: 88.90% training loss: 0.40147\n",
      "Epoch 1 validation accuracy: 94.21% validation loss: 0.20143\n",
      "Epoch 2 training accuracy: 94.94% training loss: 0.17294\n",
      "Epoch 2 validation accuracy: 95.85% validation loss: 0.13550\n",
      "Epoch 3 training accuracy: 96.52% training loss: 0.11753\n",
      "Epoch 3 validation accuracy: 96.87% validation loss: 0.10722\n",
      "Epoch 4 training accuracy: 97.34% training loss: 0.08816\n",
      "Epoch 4 validation accuracy: 97.28% validation loss: 0.09250\n",
      "Epoch 5 training accuracy: 97.89% training loss: 0.06996\n",
      "Epoch 5 validation accuracy: 97.42% validation loss: 0.08289\n",
      "Epoch 6 training accuracy: 98.25% training loss: 0.05569\n",
      "Epoch 6 validation accuracy: 97.58% validation loss: 0.08031\n",
      "Epoch 7 training accuracy: 98.58% training loss: 0.04518\n",
      "Epoch 7 validation accuracy: 97.72% validation loss: 0.07490\n",
      "Epoch 8 training accuracy: 98.85% training loss: 0.03623\n",
      "Epoch 8 validation accuracy: 97.60% validation loss: 0.07530\n",
      "Epoch 9 training accuracy: 98.96% training loss: 0.03246\n",
      "Epoch 9 validation accuracy: 97.51% validation loss: 0.07987\n",
      "Epoch 10 training accuracy: 99.15% training loss: 0.02637\n",
      "Epoch 10 validation accuracy: 97.80% validation loss: 0.07843\n"
     ]
    }
   ],
   "source": [
    "num_epochs = 10\n",
    "\n",
    "# Establish a list for our history\n",
    "train_loss_history = list()\n",
    "val_loss_history = list()\n",
    "\n",
    "for epoch in range(num_epochs):\n",
    "    net.train()\n",
    "    train_loss = 0.0\n",
    "    train_correct = 0\n",
    "    for i, data in enumerate(train_loader):\n",
    "        # data is a list of [inputs, labels]\n",
    "        inputs, labels = data\n",
    "\n",
    "        # Zero out the gradients of the optimizer\n",
    "        optimizer.zero_grad()\n",
    "\n",
    "        # Get the outputs of your model and compute your loss\n",
    "        outputs = net(inputs)\n",
    "        loss = criterion(outputs, labels)\n",
    "        \n",
    "        # Compute the loss gradient using the backward method and have the optimizer take a step\n",
    "        loss.backward()\n",
    "        optimizer.step()\n",
    "\n",
    "        # Compute the accuracy and print the accuracy and loss\n",
    "        _, preds = torch.max(outputs.data, 1)\n",
    "        train_correct += (preds == labels).sum().item()\n",
    "        train_loss += loss.item()\n",
    "    print(f'Epoch {epoch + 1} training accuracy: {train_correct/len(train_loader):.2f}% training loss: {train_loss/len(train_loader):.5f}')\n",
    "    train_loss_history.append(train_loss/len(train_loader))\n",
    "\n",
    "    # The validation step is done for you.\n",
    "    val_loss = 0.0\n",
    "    val_correct = 0\n",
    "    net.eval()\n",
    "    for inputs, labels in test_loader:\n",
    "\n",
    "        outputs = net(inputs)\n",
    "        loss = criterion(outputs, labels)\n",
    "\n",
    "        _, preds = torch.max(outputs.data, 1)\n",
    "        val_correct += (preds == labels).sum().item()\n",
    "        val_loss += loss.item()\n",
    "    print(f'Epoch {epoch + 1} validation accuracy: {val_correct/len(test_loader):.2f}% validation loss: {val_loss/len(test_loader):.5f}')\n",
    "    val_loss_history.append(val_loss/len(test_loader))"
   ]
  },
  {
   "cell_type": "markdown",
   "metadata": {},
   "source": [
    "Plot the training loss (and validation loss/accuracy, if recorded)."
   ]
  },
  {
   "cell_type": "code",
   "execution_count": 10,
   "metadata": {},
   "outputs": [
    {
     "data": {
      "image/png": "[encoded data removed]",
      "text/plain": [
       "<Figure size 432x288 with 1 Axes>"
      ]
     },
     "metadata": {
      "needs_background": "light"
     },
     "output_type": "display_data"
    }
   ],
   "source": [
    "# Plot the training and validation loss history\n",
    "plt.plot(train_loss_history, label=\"Training Loss\")\n",
    "plt.plot(val_loss_history, label=\"Validation Loss\")\n",
    "plt.legend()\n",
    "plt.show()"
   ]
  },
  {
   "cell_type": "markdown",
   "metadata": {},
   "source": [
    "## Testing your model\n",
    "Using the previously created `DataLoader` for the test set, compute the percentage of correct predictions using the highest probability prediction. \n",
    "\n",
    "If your accuracy is over 90%, great work, but see if you can push a bit further! \n",
    "If your accuracy is under 90%, you'll need to make improvements.\n",
    "Go back and check your model architecture, loss function, and optimizer to make sure they're appropriate for an image classification task."
   ]
  },
  {
   "cell_type": "code",
   "execution_count": 11,
   "metadata": {},
   "outputs": [],
   "source": [
    "def test():\n",
    "    net.eval()\n",
    "    test_loss = 0\n",
    "    test_correct = 0\n",
    "    for i, data in enumerate(test_loader):\n",
    "        inputs, labels  = data\n",
    "            \n",
    "        optimizer.zero_grad()\n",
    "        \n",
    "        outputs = net(inputs)\n",
    "        loss = criterion(outputs, labels)\n",
    "        \n",
    "        loss.backward()\n",
    "        optimizer.step()\n",
    "        \n",
    "        _, preds = torch.max(outputs.data, 1)\n",
    "        test_correct += (preds == labels).sum().item()\n",
    "        test_loss += loss.item()\n",
    "    print(f'Epoch {epoch + 1} test accuracy: {test_correct/len(test_loader):.2f}% test loss: {test_loss/len(test_loader):.5f}')"
   ]
  },
  {
   "cell_type": "code",
   "execution_count": 12,
   "metadata": {},
   "outputs": [
    {
     "name": "stdout",
     "output_type": "stream",
     "text": [
      "Epoch 1 test accuracy: 97.18% test loss: 0.09187\n",
      "Epoch 2 test accuracy: 98.43% test loss: 0.04340\n",
      "Epoch 3 test accuracy: 99.45% test loss: 0.02038\n",
      "Epoch 4 test accuracy: 99.79% test loss: 0.01025\n",
      "Epoch 5 test accuracy: 99.93% test loss: 0.00594\n",
      "Epoch 6 test accuracy: 99.99% test loss: 0.00395\n",
      "Epoch 7 test accuracy: 100.00% test loss: 0.00295\n",
      "Epoch 8 test accuracy: 100.00% test loss: 0.00232\n",
      "Epoch 9 test accuracy: 100.00% test loss: 0.00194\n",
      "Epoch 10 test accuracy: 100.00% test loss: 0.00166\n"
     ]
    }
   ],
   "source": [
    "for epoch in range(num_epochs):\n",
    "    test()"
   ]
  },
  {
   "cell_type": "markdown",
   "metadata": {},
   "source": [
    "## Improving your model\n",
    "\n",
    "Once your model is done training, try tweaking your hyperparameters and training again below to improve your accuracy on the test set!"
   ]
  },
  {
   "cell_type": "code",
   "execution_count": 13,
   "metadata": {},
   "outputs": [],
   "source": [
    "# Add dropout = 0.2\n",
    "\n",
    "class Net2(nn.Module):\n",
    "    def __init__(self):\n",
    "        super(Net2, self).__init__()\n",
    "        self.activation = F.relu\n",
    "        self.layer1 = nn.Linear(28 * 28, 128)\n",
    "        self.layer2 = nn.Linear(128, 64)\n",
    "        self.layer3 = nn.Linear(64, 10)\n",
    "        \n",
    "        self.dropout=nn.Dropout(0.2)\n",
    "        \n",
    "    def forward(self, x):\n",
    "        x = torch.flatten(x, 1)\n",
    "        x = self.activation(self.layer1(x))\n",
    "        x = self.activation(self.layer2(x))\n",
    "        x = self.layer3(x)\n",
    "        return x\n",
    "    \n",
    "net2 = Net2()"
   ]
  },
  {
   "cell_type": "code",
   "execution_count": 14,
   "metadata": {},
   "outputs": [],
   "source": [
    "# Choose an optimizer\n",
    "optimizer = optim.Adam(net2.parameters(), lr=0.001)\n",
    "\n",
    "# Choose a loss function\n",
    "criterion = nn.CrossEntropyLoss()"
   ]
  },
  {
   "cell_type": "code",
   "execution_count": 15,
   "metadata": {},
   "outputs": [
    {
     "name": "stdout",
     "output_type": "stream",
     "text": [
      "Epoch 1 training accuracy: 89.36% training loss: 0.38978\n",
      "Epoch 1 validation accuracy: 94.36% validation loss: 0.18837\n",
      "Epoch 2 training accuracy: 95.26% training loss: 0.15942\n",
      "Epoch 2 validation accuracy: 95.97% validation loss: 0.13577\n",
      "Epoch 3 training accuracy: 96.58% training loss: 0.11355\n",
      "Epoch 3 validation accuracy: 96.56% validation loss: 0.11259\n",
      "Epoch 4 training accuracy: 97.36% training loss: 0.08593\n",
      "Epoch 4 validation accuracy: 97.17% validation loss: 0.09422\n",
      "Epoch 5 training accuracy: 97.92% training loss: 0.06871\n",
      "Epoch 5 validation accuracy: 97.25% validation loss: 0.08653\n",
      "Epoch 6 training accuracy: 98.25% training loss: 0.05584\n",
      "Epoch 6 validation accuracy: 97.24% validation loss: 0.08925\n",
      "Epoch 7 training accuracy: 98.58% training loss: 0.04515\n",
      "Epoch 7 validation accuracy: 97.53% validation loss: 0.08274\n",
      "Epoch 8 training accuracy: 98.78% training loss: 0.03773\n",
      "Epoch 8 validation accuracy: 97.69% validation loss: 0.08111\n",
      "Epoch 9 training accuracy: 99.04% training loss: 0.03157\n",
      "Epoch 9 validation accuracy: 97.78% validation loss: 0.07686\n",
      "Epoch 10 training accuracy: 99.17% training loss: 0.02554\n",
      "Epoch 10 validation accuracy: 97.80% validation loss: 0.07730\n"
     ]
    }
   ],
   "source": [
    "num_epochs = 10\n",
    "\n",
    "# Establish a list for our history\n",
    "train_loss_history = list()\n",
    "val_loss_history = list()\n",
    "\n",
    "for epoch in range(num_epochs):\n",
    "    net2.train()\n",
    "    train_loss = 0.0\n",
    "    train_correct = 0\n",
    "    for i, data in enumerate(train_loader):\n",
    "        # data is a list of [inputs, labels]\n",
    "        inputs, labels = data\n",
    "\n",
    "        # Zero out the gradients of the optimizer\n",
    "        optimizer.zero_grad()\n",
    "\n",
    "        # Get the outputs of your model and compute your loss\n",
    "        outputs = net2(inputs)\n",
    "        loss = criterion(outputs, labels)\n",
    "        \n",
    "        # Compute the loss gradient using the backward method and have the optimizer take a step\n",
    "        loss.backward()\n",
    "        optimizer.step()\n",
    "\n",
    "        # Compute the accuracy and print the accuracy and loss\n",
    "        _, preds = torch.max(outputs.data, 1)\n",
    "        train_correct += (preds == labels).sum().item()\n",
    "        train_loss += loss.item()\n",
    "    print(f'Epoch {epoch + 1} training accuracy: {train_correct/len(train_loader):.2f}% training loss: {train_loss/len(train_loader):.5f}')\n",
    "    train_loss_history.append(train_loss/len(train_loader))\n",
    "\n",
    "    # The validation step is done for you.\n",
    "    val_loss = 0.0\n",
    "    val_correct = 0\n",
    "    net2.eval()\n",
    "    for inputs, labels in test_loader:\n",
    "\n",
    "        outputs = net2(inputs)\n",
    "        loss = criterion(outputs, labels)\n",
    "\n",
    "        _, preds = torch.max(outputs.data, 1)\n",
    "        val_correct += (preds == labels).sum().item()\n",
    "        val_loss += loss.item()\n",
    "    print(f'Epoch {epoch + 1} validation accuracy: {val_correct/len(test_loader):.2f}% validation loss: {val_loss/len(test_loader):.5f}')\n",
    "    val_loss_history.append(val_loss/len(test_loader))"
   ]
  },
  {
   "cell_type": "code",
   "execution_count": 16,
   "metadata": {},
   "outputs": [
    {
     "data": {
      "image/png": "[encoded data removed]",
      "text/plain": [
       "<Figure size 432x288 with 1 Axes>"
      ]
     },
     "metadata": {
      "needs_background": "light"
     },
     "output_type": "display_data"
    }
   ],
   "source": [
    "# Plot the training and validation loss history\n",
    "plt.plot(train_loss_history, label=\"Training Loss\")\n",
    "plt.plot(val_loss_history, label=\"Validation Loss\")\n",
    "plt.legend()\n",
    "plt.show()"
   ]
  },
  {
   "cell_type": "code",
   "execution_count": 17,
   "metadata": {},
   "outputs": [],
   "source": [
    "def test2():\n",
    "    net2.eval()\n",
    "    test_loss = 0\n",
    "    test_correct = 0\n",
    "    for i, data in enumerate(test_loader):\n",
    "        inputs, labels  = data\n",
    "            \n",
    "        optimizer.zero_grad()\n",
    "        \n",
    "        outputs = net2(inputs)\n",
    "        loss = criterion(outputs, labels)\n",
    "        \n",
    "        loss.backward()\n",
    "        optimizer.step()\n",
    "        \n",
    "        _, preds = torch.max(outputs.data, 1)\n",
    "        test_correct += (preds == labels).sum().item()\n",
    "        test_loss += loss.item()\n",
    "    print(f'Epoch {epoch + 1} test accuracy: {test_correct/len(test_loader):.2f}% test loss: {test_loss/len(test_loader):.5f}')"
   ]
  },
  {
   "cell_type": "code",
   "execution_count": 18,
   "metadata": {},
   "outputs": [
    {
     "name": "stdout",
     "output_type": "stream",
     "text": [
      "Epoch 1 test accuracy: 97.12% test loss: 0.10018\n",
      "Epoch 2 test accuracy: 98.60% test loss: 0.04737\n",
      "Epoch 3 test accuracy: 99.37% test loss: 0.02544\n",
      "Epoch 4 test accuracy: 99.75% test loss: 0.01298\n",
      "Epoch 5 test accuracy: 99.87% test loss: 0.00796\n",
      "Epoch 6 test accuracy: 99.96% test loss: 0.00513\n",
      "Epoch 7 test accuracy: 100.00% test loss: 0.00344\n",
      "Epoch 8 test accuracy: 100.00% test loss: 0.00261\n",
      "Epoch 9 test accuracy: 100.00% test loss: 0.00209\n",
      "Epoch 10 test accuracy: 100.00% test loss: 0.00177\n"
     ]
    }
   ],
   "source": [
    "for epoch in range(num_epochs):\n",
    "    test2()"
   ]
  },
  {
   "cell_type": "markdown",
   "metadata": {},
   "source": [
    "## Saving your model\n",
    "Using `torch.save`, save your model for future loading."
   ]
  },
  {
   "cell_type": "code",
   "execution_count": 19,
   "metadata": {},
   "outputs": [],
   "source": [
    "torch.save(Net, \"Net.pth\")\n",
    "torch.save(Net2, \"Net2.pth\")"
   ]
  },
  {
   "cell_type": "code",
   "execution_count": null,
   "metadata": {},
   "outputs": [],
   "source": []
  }
 ],
 "metadata": {
  "kernelspec": {
   "display_name": "Python 3",
   "language": "python",
   "name": "python3"
  },
  "language_info": {
   "codemirror_mode": {
    "name": "ipython",
    "version": 3
   },
   "file_extension": ".py",
   "mimetype": "text/x-python",
   "name": "python",
   "nbconvert_exporter": "python",
   "pygments_lexer": "ipython3",
   "version": "3.7.6"
  }
 },
 "nbformat": 4,
 "nbformat_minor": 4
}
